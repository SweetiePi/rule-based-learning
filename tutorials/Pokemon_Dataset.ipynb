{
 "cells": [
  {
   "cell_type": "markdown",
   "metadata": {},
   "source": [
    "This has nothing to do with gene regulation, but I thought it would be a fun classification problem to look at.\n",
    "\n",
    "All pokemon have combat stats, such as:\n",
    "\n",
    "* HP\n",
    "* Attack\n",
    "* Defense\n",
    "* Special Attack\n",
    "* Special Defense\n",
    "* Speed\n",
    "\n",
    "These make up a base total. Pokemon also have non-combat stats, such as:\n",
    "\n",
    "* Height\n",
    "* Weight\n",
    "* Gender Ratio\n",
    "\n",
    "Finally, all Pokemon have at least one type, and may have a maximum of two types:\n",
    "\n",
    "* Bug\n",
    "* Dark\n",
    "* Dragon\n",
    "* Electric\n",
    "* Fairy\n",
    "* Fighting\n",
    "* Fire\n",
    "* Flying\n",
    "* Ghost\n",
    "* Grass\n",
    "* Ground\n",
    "* Ice\n",
    "* Normal\n",
    "* Poison\n",
    "* Psychic\n",
    "* Rock\n",
    "* Steel\n",
    "* Water\n",
    "\n",
    "We want to see how well we can build a classifier that, given a Pokemon's non-combat & combat stats, predicts a Pokemon's type.\n",
    "\n",
    "It would also be interesting to see if we create a random pokemon with random stats, what type(s) would our classifer designate it as? Figuring out rules for this would be really cool. \n",
    "\n",
    "ie. IF weight < 10 AND attack > 110 THEN type == Ghost.\n",
    "\n",
    "No leaderboard here, but feel free to play around."
   ]
  },
  {
   "cell_type": "code",
   "execution_count": null,
   "metadata": {},
   "outputs": [],
   "source": []
  }
 ],
 "metadata": {
  "kernelspec": {
   "display_name": "Python 3",
   "language": "python",
   "name": "python3"
  },
  "language_info": {
   "codemirror_mode": {
    "name": "ipython",
    "version": 3
   },
   "file_extension": ".py",
   "mimetype": "text/x-python",
   "name": "python",
   "nbconvert_exporter": "python",
   "pygments_lexer": "ipython3",
   "version": "3.7.3"
  }
 },
 "nbformat": 4,
 "nbformat_minor": 2
}
